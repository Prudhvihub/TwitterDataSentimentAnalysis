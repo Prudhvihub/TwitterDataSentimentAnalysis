{
 "cells": [
  {
   "cell_type": "markdown",
   "id": "e58656f1",
   "metadata": {},
   "source": [
    "# Fetch Tweets, Kafka Topic Creation and Sending Twitter Streaming Data to Topics"
   ]
  },
  {
   "cell_type": "code",
   "execution_count": 1,
   "id": "0a53bdf8",
   "metadata": {},
   "outputs": [
    {
     "name": "stdout",
     "output_type": "stream",
     "text": [
      "Topics NATO, Biden, Putin, Zelensky, NoFlyZone created successfully.\n"
     ]
    }
   ],
   "source": [
    "import json\n",
    "import tweepy\n",
    "from confluent_kafka.admin import AdminClient, NewTopic\n",
    "from confluent_kafka import Producer, KafkaException\n",
    "import pickle\n",
    "\n",
    "# Kafka Configuration\n",
    "servers = \"localhost:9092\"\n",
    "conf = {'bootstrap.servers': servers, 'partitioner': 'consistent_random'}\n",
    "producer = Producer(conf)\n",
    "\n",
    "def create_kafka_topics(topics, num_partitions=3, replication_factor=1):\n",
    "    admin_client = AdminClient({'bootstrap.servers': servers})\n",
    "    new_topics = [NewTopic(topic, num_partitions=num_partitions, replication_factor=replication_factor) for topic in topics]\n",
    "    try:\n",
    "        admin_client.create_topics(new_topics, request_timeout=15.0)\n",
    "    except KafkaException as e:\n",
    "        print(f\"Failed to create topics: {e}\")\n",
    "    else:\n",
    "        print(f\"Topics {', '.join(topics)} created successfully.\")\n",
    "\n",
    "def send_message(data:dict, name_topic:str, id:str) -> None:\n",
    "    serialized_data = json.dumps(data)\n",
    "    bytes_data = serialized_data.encode('utf-8')\n",
    "    producer.produce(topic=name_topic, value=bytes_data, key=f\"{name_topic[:2].upper()}{id}\".encode('utf-8'))\n",
    "    producer.flush()\n",
    "\n",
    "# Tweepy API Initialization\n",
    "def get_twitter_api(bearer_token):\n",
    "    client = tweepy.Client(bearer_token)\n",
    "    return client\n",
    "\n",
    "def fetch_tweets(api, query, max_results=10):\n",
    "    tweets = api.search_recent_tweets(query=query, max_results=max_results)\n",
    "    if not tweets.data:\n",
    "        return []\n",
    "    tweet_data = []\n",
    "    for tweet in tweets.data[:5]:\n",
    "        tweet_info = {'id': tweet.id, 'text': tweet.text}\n",
    "        tweet_data.append(tweet_info)\n",
    "    return tweet_data\n",
    "\n",
    "def main():\n",
    "    # Load config\n",
    "    with open('config1.json', 'r') as config_file:\n",
    "        config = json.load(config_file)\n",
    "\n",
    "    # Initialize Tweepy API\n",
    "    api = get_twitter_api(config.get('bearer_token'))\n",
    "\n",
    "    # Define Kafka topics based on tags\n",
    "    topics = ['NATO', 'Biden', 'Putin', 'Zelensky', 'NoFlyZone']\n",
    "\n",
    "    # Create Kafka topics\n",
    "    create_kafka_topics(topics)\n",
    "\n",
    "    # Define search queries\n",
    "    queries = [f\"{config.get('nato')} {config.get('query')}\", \n",
    "               f\"{config.get('biden')} {config.get('query')}\", \n",
    "               f\"{config.get('putin')} {config.get('query')}\", \n",
    "               f\"{config.get('zelensky')} {config.get('query')}\", \n",
    "               f\"{config.get('noflyzone')} {config.get('query')}\"]\n",
    "\n",
    "    # Fetch tweets and send to Kafka\n",
    "    for topic, query in zip(topics, queries):\n",
    "        tweets = fetch_tweets(api, query)\n",
    "        for tweet in tweets:\n",
    "            send_message(tweet, name_topic=topic, id=str(tweet['id']))\n",
    "            \n",
    "            \n",
    "            \n",
    "    # Create dictionaries to store tweets for each topic\n",
    "    tweets_by_topic = {topic: [] for topic in topics}\n",
    "\n",
    "    # Fetch tweets and store in the respective dictionary\n",
    "    for topic, query in zip(topics, queries):\n",
    "        tweets = fetch_tweets(api, query)\n",
    "        for tweet in tweets:\n",
    "            tweets_by_topic[topic].append(tweet)\n",
    "\n",
    "\n",
    "if __name__ == '__main__':\n",
    "    main()\n"
   ]
  },
  {
   "cell_type": "markdown",
   "id": "1aefa4de",
   "metadata": {},
   "source": [
    "# To Check if Kafka Topics has Received Messages"
   ]
  },
  {
   "cell_type": "code",
   "execution_count": 2,
   "id": "9664864a",
   "metadata": {},
   "outputs": [
    {
     "name": "stdout",
     "output_type": "stream",
     "text": [
      "Received message: {\"id\": 1724979134294639012, \"text\": \"Here for those that argue \\\"Palestinians were celebrating 7th of October\\\".\\n\\n\\\"Gaza you are a wh*re\\\".\\n\\nThis been happening for 75yrs btw, constant, routinely humiliations.\\n\\n#Gaza #Palestine #Israel #Iran #Yemen #Russia #US #NATO #UN #BRICS #Hamas #Hezbollah\\nhttps://t.co/XsJ9EaghDP\"}\n",
      "Received message: {\"id\": 1724983738000347307, \"text\": \"How crazy it is to watch Israelis celebrating \\\"winning\\\" a conflict against unarmed woman and children? Surreal.\\n\\n#Gaza #Palestine #Israel #Iran #Yemen #Russia #US #NATO #UN #BRICS #Hamas #Hezbollah\"}\n",
      "Received message: {\"id\": 1724979134294639012, \"text\": \"Here for those that argue \\\"Palestinians were celebrating 7th of October\\\".\\n\\n\\\"Gaza you are a wh*re\\\".\\n\\nThis been happening for 75yrs btw, constant, routinely humiliations.\\n\\n#Gaza #Palestine #Israel #Iran #Yemen #Russia #US #NATO #UN #BRICS #Hamas #Hezbollah\\nhttps://t.co/XsJ9EaghDP\"}\n",
      "Received message: {\"id\": 1724978719742115972, \"text\": \"\\u201cCompelling evidence\\u201d of weapons of mass destruction at Hamas HQ, hahaha.  $BTC $RUNE $LINK $INJ $SOL #USNavy #USArmy #USNews #NATO #Europe #EuropeanUnion #America #News #Ukraine #Israel #Iran #Irak #Lybia #India #Russia #Zelensky #StockMarket https://t.co/ZffegxKxKG\"}\n",
      "Received message: {\"id\": 1724976598644858948, \"text\": \"The silly BEARS, trying to hold back the next bullish wave, hahaha.  $BTC $RUNE $LINK $INJ $SOL #USNavy #USArmy #USNews #NATO #Europe #EuropeanUnion #America #News #Ukraine #Israel #Iran #Irak #Lybia #India #Russia #Zelensky #StockMarket https://t.co/FTvVQd18iC\"}\n",
      "Received message: {\"id\": 1724976274693558563, \"text\": \"The silly BEARS, trying to hold back the next bullish wave, hahaha.  $BTC $RUNE $LINK $INJ $SOL #USNavy #USArmy #USNews #NATO #Europe #EuropeanUnion #America #News #Ukraine #Israel #Iran #Irak #Lybia #India #Russia #Zelensky #StockMarket https://t.co/8aN7pljcKy\"}\n"
     ]
    }
   ],
   "source": [
    "from confluent_kafka import Consumer, KafkaException\n",
    "\n",
    "def consume_messages(topic):\n",
    "    conf = {'bootstrap.servers': 'localhost:9092', 'group.id': 'my_consumer_group', 'auto.offset.reset': 'earliest'}\n",
    "\n",
    "    consumer = Consumer(conf)\n",
    "    consumer.subscribe([topic])\n",
    "\n",
    "    try:\n",
    "        while True:\n",
    "            msg = consumer.poll(1.0)\n",
    "            if msg is None:\n",
    "                continue\n",
    "            if msg.error():\n",
    "                if msg.error().code() == KafkaException:\n",
    "                    continue\n",
    "                else:\n",
    "                    print(msg.error())\n",
    "                    break\n",
    "            print('Received message: {}'.format(msg.value().decode('utf-8')))\n",
    "    except KeyboardInterrupt:\n",
    "        pass\n",
    "    finally:\n",
    "        consumer.close()\n",
    "\n",
    "# Replace 'your_topic' with the actual topic name\n",
    "consume_messages('NATO')\n"
   ]
  }
 ],
 "metadata": {
  "kernelspec": {
   "display_name": "Python 3 (ipykernel)",
   "language": "python",
   "name": "python3"
  },
  "language_info": {
   "codemirror_mode": {
    "name": "ipython",
    "version": 3
   },
   "file_extension": ".py",
   "mimetype": "text/x-python",
   "name": "python",
   "nbconvert_exporter": "python",
   "pygments_lexer": "ipython3",
   "version": "3.9.13"
  }
 },
 "nbformat": 4,
 "nbformat_minor": 5
}
